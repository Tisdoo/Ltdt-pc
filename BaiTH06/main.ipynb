{
 "cells": [
  {
   "cell_type": "markdown",
   "id": "8eb14779",
   "metadata": {},
   "source": [
    "# Bài 1"
   ]
  },
  {
   "cell_type": "markdown",
   "id": "50be3cd3",
   "metadata": {},
   "source": [
    "Main idea: Khởi tạo hàm tính toán khoảng cách, hàm build mảng chứa các cạnh. Các khoảng cách dưới 50(bước) thành trọng số là 0, các khoảng cách 50>x<=60 thành trọng số =1. Điều chỉnh lại hàm dijkstra dùng tuple thay vì pair vì có 3 giá trị tuple(buoc,nhay,node)."
   ]
  },
  {
   "cell_type": "code",
   "execution_count": 21,
   "id": "6ec4c84a",
   "metadata": {},
   "outputs": [
    {
     "name": "stdout",
     "output_type": "stream",
     "text": [
      "4 1 4\n",
      "0 0 5     \n",
      "0 20 5   \n",
      "0 30 5   \n",
      "0 100 10  "
     ]
    }
   ],
   "source": [
    "!cat test.inp"
   ]
  },
  {
   "cell_type": "code",
   "execution_count": 22,
   "id": "6b9a0083",
   "metadata": {},
   "outputs": [
    {
     "name": "stdout",
     "output_type": "stream",
     "text": [
      "1\n",
      "1 3\n",
      "3 0\n",
      "4 1\n"
     ]
    }
   ],
   "source": [
    "!./circle < test.inp > output.txt\n",
    "!cat output.txt  "
   ]
  },
  {
   "cell_type": "markdown",
   "id": "1ca6fe39",
   "metadata": {},
   "source": [
    "# Bài 2\n"
   ]
  },
  {
   "cell_type": "markdown",
   "id": "8edb2db3",
   "metadata": {},
   "source": [
    "Main idea: Chương trình đọc bản đồ lưới,sau đó dùng Dijkstra để tìm đường đi có tổng chi phí nhỏ nhấttừ điểm xuất phát đến điểm đích,và in ra đường đi cùng chi phí tối ưu."
   ]
  },
  {
   "cell_type": "code",
   "execution_count": 23,
   "id": "9a66a381",
   "metadata": {},
   "outputs": [
    {
     "name": "stdout",
     "output_type": "stream",
     "text": [
      "3 4 1 1 3 4\n",
      "1 2 3 4\n",
      "0 3 0 2\n",
      "1 2 3 4"
     ]
    }
   ],
   "source": [
    "!cat test1.inp"
   ]
  },
  {
   "cell_type": "code",
   "execution_count": 26,
   "id": "4bd28a13",
   "metadata": {},
   "outputs": [
    {
     "name": "stdout",
     "output_type": "stream",
     "text": [
      "1\n",
      "10\n",
      "1 1\n",
      "1 2\n",
      "2 2\n",
      "3 2\n",
      "3 3\n",
      "3 4\n"
     ]
    }
   ],
   "source": [
    "!./Bang < test1.inp > output1.txt\n",
    "!cat output1.txt  "
   ]
  }
 ],
 "metadata": {
  "kernelspec": {
   "display_name": "Python 3",
   "language": "python",
   "name": "python3"
  },
  "language_info": {
   "codemirror_mode": {
    "name": "ipython",
    "version": 3
   },
   "file_extension": ".py",
   "mimetype": "text/x-python",
   "name": "python",
   "nbconvert_exporter": "python",
   "pygments_lexer": "ipython3",
   "version": "3.12.1"
  }
 },
 "nbformat": 4,
 "nbformat_minor": 5
}
